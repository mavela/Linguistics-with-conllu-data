{
  "cells": [
    {
      "cell_type": "markdown",
      "metadata": {
        "id": "view-in-github",
        "colab_type": "text"
      },
      "source": [
        "<a href=\"https://colab.research.google.com/github/mavela/Linguistics-with-conllu-data/blob/master/trankit.ipynb\" target=\"_parent\"><img src=\"https://colab.research.google.com/assets/colab-badge.svg\" alt=\"Open In Colab\"/></a>"
      ]
    },
    {
      "cell_type": "code",
      "execution_count": null,
      "metadata": {
        "id": "5ho9Kz1y6lyz"
      },
      "outputs": [],
      "source": [
        "### install libraries\n",
        "!pip install -q trankit==1.1.0\n",
        "!pip install -q transformers"
      ]
    },
    {
      "cell_type": "code",
      "execution_count": null,
      "metadata": {
        "id": "a4FAf7gMaQ0e"
      },
      "outputs": [],
      "source": [
        "### get some random data\n",
        "### download and save as inari.txt\n",
        "\n",
        "! wget -O \"inari.txt\" https://www.gutenberg.org/cache/epub/54382/pg54382.txt"
      ]
    },
    {
      "cell_type": "code",
      "source": [
        "### let's check how it looks like\n",
        "! tail +50 inari.txt | head -20"
      ],
      "metadata": {
        "id": "wr-fBJ_87V65"
      },
      "execution_count": null,
      "outputs": []
    },
    {
      "cell_type": "code",
      "execution_count": null,
      "metadata": {
        "id": "DYqTReUW63NI"
      },
      "outputs": [],
      "source": [
        "# initialize the parser model\t\n",
        "\n",
        "from trankit import Pipeline, trankit2conllu\n",
        "\n",
        "parser = Pipeline(lang='finnish') #you can also try other languages"
      ]
    },
    {
      "cell_type": "code",
      "execution_count": 17,
      "metadata": {
        "id": "g9A8sHE1alwQ",
        "colab": {
          "base_uri": "https://localhost:8080/"
        },
        "outputId": "e1995238-e7f5-4607-ba64-7c08409a6ae0"
      },
      "outputs": [
        {
          "output_type": "stream",
          "name": "stdout",
          "text": [
            "['\\ufeffThe Project Gutenberg eBook, Inari, by L. Onerva\\n', '\\n', '\\n', 'This eBook is for the use of anyone anywhere in the United States and most\\n', 'other parts of the world at no cost and with almost no restrictions \\n', 'whatsoever.  You may copy it, give it away or re-use it under the terms of\\n', 'the Project Gutenberg License included with this eBook or online at \\n', \"www.gutenberg.org.  If you are not located in the United States, you'll have\\n\", 'to check the laws of the country where you are located before using this ebook.\\n', '\\n']\n"
          ]
        }
      ],
      "source": [
        "# open file, read to docs\n",
        "\n",
        "docs = [] \n",
        "fin = open(\"inari.txt\", \"r\") # you can change here any text file you upload!\n",
        "docs = fin.readlines()\n",
        "#for line in fin:\n",
        "#  line=line.strip()\n",
        "#  docs.append(line)\n",
        "\n",
        "docs=docs[:10]\n",
        "print(docs)\n",
        "#doc = \"Ukrainan presidentti Volodymyr Zelenskyi vierailee tänään Britanniassa, kertoo Britannian pääministerin kanslia. Zelenskyi tapaa vierailunsa aikana pääministeri Rishi Sunakin sekä keskustelee Britannian kouluttamien ukrainalaissotilaiden kanssa. Vierailu on Ukrainan presidentin ensimmäinen vierailu Britanniaan Venäjän aloittaman hyökkäyssodan jälkeen.\"\n"
      ]
    },
    {
      "cell_type": "code",
      "execution_count": null,
      "metadata": {
        "id": "2soZR0P38bBv"
      },
      "outputs": [],
      "source": [
        "# parse and print to file\n",
        "fout = open(\"out.conllu\", \"w\")\n",
        "for doc in docs:\n",
        "  fout.write(\"###C: NEWDOC\")\n",
        "  fout.write(\"\\n\")\n",
        "  fout.write(\"##C:\" + str(doc))\n",
        "  parsed = parser(doc) # parse the data\n",
        "  conllu = trankit2conllu(parsed)\n",
        "  fout.write(conllu)\n",
        "  fout.write(\"\\n\")\n",
        "fout.close()"
      ]
    },
    {
      "cell_type": "code",
      "execution_count": null,
      "metadata": {
        "id": "TtCS2vgzZZ5g"
      },
      "outputs": [],
      "source": []
    }
  ],
  "metadata": {
    "accelerator": "GPU",
    "colab": {
      "provenance": [],
      "include_colab_link": true
    },
    "kernelspec": {
      "display_name": "Python 3",
      "name": "python3"
    },
    "language_info": {
      "name": "python"
    }
  },
  "nbformat": 4,
  "nbformat_minor": 0
}