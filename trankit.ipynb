{
  "cells": [
    {
      "cell_type": "markdown",
      "metadata": {
        "id": "view-in-github",
        "colab_type": "text"
      },
      "source": [
        "<a href=\"https://colab.research.google.com/github/mavela/Linguistics-with-conllu-data/blob/master/trankit.ipynb\" target=\"_parent\"><img src=\"https://colab.research.google.com/assets/colab-badge.svg\" alt=\"Open In Colab\"/></a>"
      ]
    },
    {
      "cell_type": "code",
      "execution_count": null,
      "metadata": {
        "id": "5ho9Kz1y6lyz"
      },
      "outputs": [],
      "source": [
        "### install libraries\n",
        "!pip install -q trankit==1.1.0\n",
        "!pip install -q transformers"
      ]
    },
    {
      "cell_type": "code",
      "execution_count": null,
      "metadata": {
        "id": "a4FAf7gMaQ0e"
      },
      "outputs": [],
      "source": [
        "### get some random data\n",
        "### download and save as inari.txt\n",
        "\n",
        "! wget -O \"inari.txt\" https://www.gutenberg.org/cache/epub/54382/pg54382.txt"
      ]
    },
    {
      "cell_type": "code",
      "source": [
        "### let's check how it looks like\n",
        "! tail +50 inari.txt | head -20"
      ],
      "metadata": {
        "id": "wr-fBJ_87V65"
      },
      "execution_count": null,
      "outputs": []
    },
    {
      "cell_type": "code",
      "execution_count": null,
      "metadata": {
        "id": "DYqTReUW63NI"
      },
      "outputs": [],
      "source": [
        "# initialize the parser model\t\n",
        "\n",
        "from trankit import Pipeline, trankit2conllu\n",
        "\n",
        "parser = Pipeline(lang='finnish') #you can also try other languages"
      ]
    },
    {
      "cell_type": "code",
      "execution_count": null,
      "metadata": {
        "id": "g9A8sHE1alwQ"
      },
      "outputs": [],
      "source": [
        "# open file, read to docs\n",
        "\n",
        "docs = [] \n",
        "fin = open(\"inari.txt\", \"r\") # you can change here any text file you upload!\n",
        "docs = fin.readlines()\n",
        "docs = \"\".join(docs)\n",
        "docs=docs.replace(\"\\n\", \" \")\n",
        "\n",
        "docs=docs[:1000] # this takes just 1000 first characters, comment out if you want to parse the whole thing\n",
        "\n",
        "print(docs)\n",
        "\n",
        "# Or if you want to write here what to parse, you can do that as well!\n",
        "#docs = \"Ukrainan presidentti Volodymyr Zelenskyi vierailee tänään Britanniassa, kertoo Britannian pääministerin kanslia. Zelenskyi tapaa vierailunsa aikana pääministeri Rishi Sunakin sekä keskustelee Britannian kouluttamien ukrainalaissotilaiden kanssa. Vierailu on Ukrainan presidentin ensimmäinen vierailu Britanniaan Venäjän aloittaman hyökkäyssodan jälkeen.\"\n"
      ]
    },
    {
      "cell_type": "code",
      "execution_count": 27,
      "metadata": {
        "id": "2soZR0P38bBv"
      },
      "outputs": [],
      "source": [
        "# parse and print to file\n",
        "fout = open(\"out.conllu\", \"w\") # here the filename you want to parse\n",
        "parsed = parser(docs)\n",
        "conllu=trankit2conllu(parsed)\n",
        "fout.write(conllu)\n",
        "fout.close()\n"
      ]
    },
    {
      "cell_type": "code",
      "execution_count": null,
      "metadata": {
        "id": "TtCS2vgzZZ5g"
      },
      "outputs": [],
      "source": [
        "# let's have a look what we got!\n",
        "! cat out.conllu"
      ]
    },
    {
      "cell_type": "code",
      "source": [],
      "metadata": {
        "id": "xlFdLWS6nnEE"
      },
      "execution_count": null,
      "outputs": []
    }
  ],
  "metadata": {
    "accelerator": "GPU",
    "colab": {
      "provenance": [],
      "include_colab_link": true
    },
    "kernelspec": {
      "display_name": "Python 3",
      "name": "python3"
    },
    "language_info": {
      "name": "python"
    }
  },
  "nbformat": 4,
  "nbformat_minor": 0
}