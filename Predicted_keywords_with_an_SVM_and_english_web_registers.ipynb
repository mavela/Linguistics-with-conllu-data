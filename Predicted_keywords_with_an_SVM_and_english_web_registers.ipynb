{
  "nbformat": 4,
  "nbformat_minor": 0,
  "metadata": {
    "colab": {
      "name": "Predicted keywords with an SVM and english web registers.ipynb",
      "provenance": [],
      "authorship_tag": "ABX9TyPFzZh24iyvhOMBVYixtFPd",
      "include_colab_link": true
    },
    "kernelspec": {
      "name": "python3",
      "display_name": "Python 3"
    },
    "language_info": {
      "name": "python"
    }
  },
  "cells": [
    {
      "cell_type": "markdown",
      "metadata": {
        "id": "view-in-github",
        "colab_type": "text"
      },
      "source": [
        "<a href=\"https://colab.research.google.com/github/mavela/Linguistics-with-conllu-data/blob/master/Predicted_keywords_with_an_SVM_and_english_web_registers.ipynb\" target=\"_parent\"><img src=\"https://colab.research.google.com/assets/colab-badge.svg\" alt=\"Open In Colab\"/></a>"
      ]
    },
    {
      "cell_type": "markdown",
      "source": [
        "# Text classification on web registers + predicted keywords\n",
        "## Steps\n",
        "\n",
        "1. Get data from Github\n",
        "2. Have a look at conllu data\n",
        "3. Decide what two registers you want to compare - the classifier setting is binary with 2 classes\n",
        "4. Featurize \n",
        "5. Divide to train and test\n",
        "6. Run the SVM\n",
        "7. Evaluate + optimize\n",
        "8. Analyze the keywords\n",
        "\n",
        "## Things to analyze\n",
        "\n",
        "1. Do the results vary between different registers?\n",
        "2. Do the results vary between feature sets?\n",
        "3. Do the keywords or keyfeatures make sense?\n",
        "4. What do the keywords or features tell you about the text classes?\n"
      ],
      "metadata": {
        "id": "YBdXasnUfoz6"
      }
    },
    {
      "cell_type": "markdown",
      "source": [
        "### 1. Data from Github\n",
        "\n",
        "This is the same what we had for the keywords"
      ],
      "metadata": {
        "id": "OUocUVLCgclY"
      }
    },
    {
      "cell_type": "code",
      "source": [
        "! git clone https://github.com/mavela/Linguistics-with-conllu-data.git\n",
        "% cd Linguistics-with-conllu-data/\n",
        "! ls"
      ],
      "metadata": {
        "colab": {
          "base_uri": "https://localhost:8080/"
        },
        "id": "GwLS0Raggg_j",
        "outputId": "a70d54bf-3541-4021-acab-16d41d00bc68"
      },
      "execution_count": 1,
      "outputs": [
        {
          "output_type": "stream",
          "name": "stdout",
          "text": [
            "Cloning into 'Linguistics-with-conllu-data'...\n",
            "remote: Enumerating objects: 76, done.\u001b[K\n",
            "remote: Counting objects: 100% (15/15), done.\u001b[K\n",
            "remote: Compressing objects: 100% (11/11), done.\u001b[K\n",
            "remote: Total 76 (delta 6), reused 13 (delta 4), pack-reused 61\u001b[K\n",
            "Unpacking objects: 100% (76/76), done.\n",
            "Checking out files: 100% (17/17), done.\n",
            "/content/Linguistics-with-conllu-data\n",
            "analyze.py\n",
            "common.py\n",
            "data\n",
            "keyness-conllu.py\n",
            "keyness-filt.py\n",
            "keyness.py\n",
            "Notebook_Poitiers.ipynb\n",
            "Predicted_keywords_with_an_SVM_and_english_web_registers.ipynb\n",
            "__pycache__\n",
            "svm_explain.py\n",
            "svm.py\n",
            "text_dispersion_filt.py\n",
            "text_dispersion.py\n"
          ]
        }
      ]
    },
    {
      "cell_type": "markdown",
      "source": [
        "### 2. Have a look at the data\n",
        "\n",
        "This is also the same - just a standard procedure to make sure all is fine!"
      ],
      "metadata": {
        "id": "yHkbbUJogyYS"
      }
    },
    {
      "cell_type": "code",
      "source": [
        "! head -20 data/sr.conllu"
      ],
      "metadata": {
        "colab": {
          "base_uri": "https://localhost:8080/"
        },
        "id": "_HqvsWf8hGFC",
        "outputId": "ec63b499-3d8b-4073-f544-3623f41e02a5"
      },
      "execution_count": 2,
      "outputs": [
        {
          "output_type": "stream",
          "name": "stdout",
          "text": [
            "## register SR\n",
            "# ../CORE_raw/sr\n",
            "# ../CORE_raw/sr/1+NA+SR+NA-NA-NA-NA+SR-SR-SR-SR+NNNY+1758585.txt\n",
            "# <1758585>\n",
            "# <http://www.infonews.co.nz/news.cfm?id=89071>\n",
            "# <Rater 1: NA_SR * QU * N * ID: A38IZBOGFD2S9Y>\n",
            "# <Rater 2: NA_SR * QU * N * ID: A3UOK7WMVFVHHE>\n",
            "# <Rater 3: NA_SR *  * N * ID: A33SMNMTMIOJ6T>\n",
            "# <Rater 4: NA_SR *  * Y * ID: A193YDFH1CD4JX>\n",
            "# newdoc\n",
            "# newpar\n",
            "# sent_id = 1\n",
            "# text = The kiwi crews just failed to qualify for a debut A Final.\n",
            "1\tThe\tthe\tDET\tDT\tDefinite=Def|PronType=Art\t3\tdet\t_\tSpacesBefore=\\n\n",
            "2\tkiwi\tkiwi\tPROPN\tNNP\tNumber=Sing\t3\tcompound\t_\t_\n",
            "3\tcrews\tcrew\tNOUN\tNNS\tNumber=Plur\t5\tnsubj\t_\t_\n",
            "4\tjust\tjust\tADV\tRB\t_\t5\tadvmod\t_\t_\n",
            "5\tfailed\tfail\tVERB\tVBD\tMood=Ind|Tense=Past|VerbForm=Fin\t0\troot\t_\t_\n",
            "6\tto\tto\tPART\tTO\t_\t7\tmark\t_\t_\n",
            "7\tqualify\tqualify\tVERB\tVB\tVerbForm=Inf\t5\txcomp\t_\t_\n"
          ]
        }
      ]
    },
    {
      "cell_type": "markdown",
      "source": [
        "### 3. Featurize\n",
        "\n",
        "Decide which you registers you want to compare. Then featurize them.\n",
        "\n",
        "This script turns the file to the column feature presented by the argument. The script outputs a file `[register].feats`\n",
        "\n",
        "Run this script for two register classes to get your data!\n"
      ],
      "metadata": {
        "id": "4hqZO7hzhW3p"
      }
    },
    {
      "cell_type": "code",
      "source": [
        "from analyze import save_text_format\n",
        "\n",
        "save_text_format(\"data/df.conllu\", \"LEMMA\")"
      ],
      "metadata": {
        "colab": {
          "base_uri": "https://localhost:8080/"
        },
        "id": "bU6iUNoS0RKL",
        "outputId": "77aba8e6-21af-4722-ec75-9d5e1a0a30fb"
      },
      "execution_count": 29,
      "outputs": [
        {
          "output_type": "stream",
          "name": "stdout",
          "text": [
            "O fi data/df.conllu\n",
            "FILE data/df.conllu\n",
            "ORIG DATA data/df.conllu\n"
          ]
        }
      ]
    },
    {
      "cell_type": "markdown",
      "source": [
        "Have a look at the file content to be sure it's what you meant! You'll see that the script also adds a register label to each line."
      ],
      "metadata": {
        "id": "gWc2cjk0l-z6"
      }
    },
    {
      "cell_type": "code",
      "source": [
        "! head -20 data/sr.feats # again, you can change the filename to match your files"
      ],
      "metadata": {
        "colab": {
          "base_uri": "https://localhost:8080/"
        },
        "id": "jw7hrfzMl-K0",
        "outputId": "c3f8a705-9bfd-452a-c357-40b1903db621"
      },
      "execution_count": 21,
      "outputs": [
        {
          "output_type": "stream",
          "name": "stdout",
          "text": [
            "sr\tthe kiwi crew just fail to qualify for a debut a final . the man 's eight be eliminate from the a final after finish fifth in the repechage . credit : Rowing New Zealand New Zealand 's new lightweight four fail to make the a final in Belgrade last night after a brave effort on its debut - lead until the final sprint where it be demote to third and consign to the b final . they will be join in the b final by the heavyweight four , who also narrowly fail to make it through . the eight be eliminate after finish fifth in the repechage . need a first or second place to qualify for the main a final , Curtis Rapley , James Lassche , Graham Oberlin Brown and Duncan grant take the lead early and be still ahead at 500 metre - ensure they would be in the battle as the race develop in a class that boast a huge number of competitive , close boat . they hold onto the lead through halfway by half a second from China and less than a second from France . and they be still ahead by just tenth of a second 500 metre later as the race enter it 's closing stage . the more seasoned and experience crew alongside they just manage to pull through on the final sprint to the line however , leave the New Zealand crew about a boat length short of qualifying for the main final . the Kiwis be disappointed to get so close to a debut a final in a field contain several olympic qualified boat , but remain positive about further improvement in the b final - still just they third international race together . \" today in we semi-final we know that it be go to be the most important race of this world cup for we , \" say grant . \" it be a chance to be in the a - final , so we focuss on that fact and go all out to get one of the two spot available . \" we stick to we race plan and we learn that at we best we be up with the best crew in the lightweight four field . that be a real positive for we and even though we be all disappointed at not make the a - final after fade a little in the sprint for the line we definitely feel that we be track well for the qualification regatta in a few week . we now plan to finish this world cup on a high by win the b- final . \" the heavy weight four of Tyson Williams , Jade Uru , Chris Harris and Sean O'Neill also fail to make the cut for the a final , and like the light four have be in contention during the race . another new - look crew , it hold third place until the final 500 metre before be overhaul in the sprint for the line for the final qualifying spot by the Czech Republic . Greece and the Belarusians lock out the top two place . there be more disappointment for the man 's eight . it finish last in a field of five in the repechage and be eliminate from the a final line up . again , they be close to the pace but not quite set it and lose time to the field at every 500 metre marker have hold a initial third place at the first checkpoint . the Ukraine , France , Poland and winners the Netherlands all make it through . tonight 's rowing will see both four in action in the b final which define seventh through to 12th position .\n",
            "sr\tthe other one be about a performance that be not quite up to the standard of past season . they have give up more than 200 rush yard in each of they last two game and rank near the bottom of the league in yard allow . safety Bernard Pollard vow that thing be go to change on defense and that it be up to the player to put that change into action . \" do not blame the coach . do not blame the coach because the coach do not play . Dean have make great call . it be about we go out there and execute . we have not be execute , \" Pollard say , via Josh Land of MASNSports.com . \" we be tough and physical . nobody can question the ability that we have . we get pressure in the backfield . we have guy in the backfield numerous time , we just do not tackle , we do not execute . I think for we , like I say , we take that personally . \" the good news , in addition to they 5 - 1 record , for the raven be that they be still allow under 20 point per game so all those yard have not result in many point . you can thank the chief for that , but the raven should still be concerned about the breakdown over the last two week . 11 response to \" Bernard Pollard : thing be go to change on defense \" ravenator say : Oct 18 , 2012 1:59 pm unlike you team , Ravens win game fuglyflorio say : Oct 18 , 2012 2:01 pm perhaps the most obvious comment ever . southpaw2 k say : Oct 18 , 2012 2:12 pm you know what be funny , compare the Ravens 's situation on defense this year to where it be two year ago under Greg Mattison . how many fan be call for Mattison 's head on a plate during that time ? so many comment about how vanilla the defense look and a lack of blitz package . the Ravens 's D be now weaker than it be two year ago , and Dean Pees be still see as likable and trust compare to Mattison . not say I be call for pee 's head or anything . just make a observation . raven be very lucky to be 5 - 1 because Romo / Garrett be absolute pinhead last wk , & both the Browns & Pats coulda beat they . w/ the Lewis & Webb injury -- and you know a forthcoming Reed malady at some pt -- they will lose they share of gm . fortunately for they , even 6 - 4 the rest of the way will win the division .\n",
            "sr\tQuinlan lead marauder to Mitchell Bowl win Dave Chidley McMaster University Marauders quarterback Kyle Quinlan , 12 , celebrate with teammate after score a touchdown against university of Calgary Dinos during first half Mitchell Bowl football action in Hamilton , Ontario , on Saturday , Nov. 17 , 2012 . the canadian press / Dave Chidley HAMILTON -- Kyle Quinlan be quick to share the credit , but he number do not lie . the fifth - year quarterback rush for three touchdown and throw for three other score Saturday as the defend Vanier cup champion McMaster Marauders demolish the Calgary dino 45 - 6 in the Mitchell Bowl to advance to they second straight national title game . \" I be proud of the whole team effort , \" say Quinlan , who finish 25 - of - 35 yard passing for 412 yard . \" we expect a lot of ourselves offensively but to see the defence fly around like that be really exciting . \" with the win , the no . 1 Marauders ( 11 - 0 ) extend they record canadian university football win streak to 21 game and set up a rematch of last year 's thrilling Vanier cup that see McMaster defeat the Laval Rouge et or 41 - 38 in double overtime . \" ( Quinlan ) be one of the best I have ever see at this level . he do it so many different way and the bigger the game , the better he play , \" say Marauders head coach Stefan Ptaszek . \" he come up big on the biggest stage . \" the dagger come late in the second quarter on Saturday when Quinlan hook up with Brad Fochesato on a 61 - yard touchdown pass to make the score 24 - 4 with 2:25 to play in the half . that touchdown come just under a minute after Quinlan score on he second one - yard td run of the game to make the score 17 - 4 follow a McMaster fake punt that see kicker Tyler Crapinga find Ben O'Connor on a five - yard passing play . Quinlan , who finish with 50 yard rushing , then cap a clinical 82 - yard drive to start the second half with a 11 - yard touchdown run to make the score 31 - 4 . \" the whole philosophy for the whole game be to turn these guy loose . we have be reign they in to get through we oua season , \" Ptaszek say . \" today the philosophy be make play from start to finish and do not stop . \" Robert Babic be Quinlan 's top target through the air , snag 10 pass for 156 yard and a touchdown , while Fochesato catch four pass for 113 yard . Ben D' Aguilar lead the way for the relentless Marauders defence , finish with three of McMaster 's five sack . Calgary quarterback Eric Dzwilewski be 10- of - 21 passing for 114 yard for the no . 3 dino ( 9 - 2 ) , who see they top - rank offence stifle time and again . Dzwilewski be replace by backup Andrew Buckley in the fourth quarter . \" it be very disheartening . I really feel we program be a competitive program , \" say Calgary head coach Blake Nill , whose team be hold to just 200 yard on the day . \" we just could not get any momentum establish offensively . basically what happen be the defence hang strong for a while and eventually start to break a bit . \" Calgary kicker johnny Mark be good on 1 - of - 2 field goal to provide all the offence for the dino . \" this be as low as I have feel in a long time , \" Nill add . \" come in , I really think we have a opportunity but after tonight 's performance , I be wrong . \" Calgary put together a decent drive late in the third quarter but the threat be snuff out because of a Steven Lumbala fumble . Quinlan then hook up with Babic on a 31 - yard td pass early in the fourth to give the marauder a 34 - point lead . \" they be out of sort all day and that be a tribute to the gameplan and the kid play they heart out , \" Ptaszek say . Quinlan add insult to injury by hook up with Michael Dicroce for a 16 - yard td with under five minute to go in the game before McMaster conced a safety with less than 90 seconds to play . \" I think go in we could limit Quinlan through the air . that may sound unusual but I think in the back end we could limit he , \" Nill say . \" I be concerned with he running . we have to make a few change in the secondary and he be just too good for we tonight . \" both McMaster and Calgary start sluggishly on offence in the first quarter . the dino be stuff on a third and one at midfield before Quinlan lose a fumble on the ensue possession . Mark open the scoring with a 37 - yard field goal at 5:39 but Quinlan score on a quarterback sneak from the one - yard line on the final play of the quarter to give the marauder a 7 - 3 lead . the drive include a 39 - yard pass to Dahlin Brooks and a 15 - yard unnecessary roughness penalty on the dino . McMaster then add a single point in the ensue kickoff . Mark miss a 27 - yard field goal to make the score 8 - 4 at 12:13 of the second but Calgary conced a safety midway through the quarter to stretch the marauder 's lead to 10 - 4 . the McMaster defence step up after that , sack Dzwilewski on consecutive play to force a punt before Quinlan lead back - to - back touchdown drive late in the half . McMaster will take on Laval in the 48th Vanier cup at Rogers Centre in Toronto on Friday night after the no . 2 rouge et or demolish the no . 9 Acadia Axemen 42 - 7 in the Uteck Bowl in Quebec City . \" it will be we hardest football game hand down , \" Ptaszek say . \" ( the player ) know the stake be big . it be not go to be easy and we have do nothing yet because there be a very talented Laval team await we . \" note : Laval have the previous record for the longest win streak in cis football . the Rouge et or win 19 straight game between 2004 and 2005 . ... Calgary lose the Vanier cup game in 2009 and 2010 and have not win a national championship since 1995 . ... both Quinlan and Dzwilewski be up for the Hec Crighton trophy as the top player in canadian university football . ... attendance at Ron Joyce stadium be 5,442 . ... the Rouge et or defeat Calgary 29 - 2 in the 2010 title game . Laval will be take part in its third straight vanier cup and they sixth title game in the last 10 year . ... McMaster be look to become just the four school to win back - to - back vanier cup . ... Buckley finish 10 - for - 15 passing for 66 yard and a interception . ... Taylor Nill be the top Calgary receiver with seven catch for 90 yard . ... Calgary be penalize 17 time for 127 yard , while McMaster be flag nine time for 99 yard .\n",
            "sr\tcurrent cat have many similarity with '96 Edition SUNRISE , Fla . -- no sooner have the final horn sound on the night the Florida panther clinch they first - ever division title that the plastic rat start rain from the stand at BankAtlantic Center . there also be a few rat toss onto the ice Friday night after each of the panther 's two goal in they 3 - 2 loss to the New Jersey Devils in game 1 of they eastern conference quarterfinal series . it be shade of 1996 . the whole season , to a extent , have be like a trip back in time for the panther -- and it go way beyond the plastic rat . the most obvious parallel between the 1996 and 2012 panther be they ability to reach the playoff with a group of player who come from other team and be not expect to experience much success . the 1996 panther be make up mostly of player who have be acquire three year earlier via the expansion draft . the 2012 panther feature more than a dozen newcomer , the result of general manager Dale Tallon decide to overhaul the roster to get he rebuild project head in the right direction . both team be feature a first - year nhl head coach , Doug MacLean in 1996 and Kevin Dineen this year . and , finally , both team include a rookie defenseman who be a high pick in the draft , Ed Jovanovski in 1996 and Erik Gudbranson this year . Jovanovski return to the Panthers this year and he can see the similarity between both team , even though he be more concerned these day with deal with New Jersey in the eastern conference quarterfinal . \" there be countless people who think we be suppose to be do right now , \" Jovanovski say . \" I guess you can say the same on the '96 team . no one really give we a chance . I kind of like be in that role . it be what it be . we know what we can do in here if we be play well . that be all that matter be trust in you teammate and know you have that ability to get it do . for we group , that be what we rely on , each other . \" Jovanovski be but one link this year 's panther have to that 1996 team that make a magical playoff run through the eastern conference playoff , beat Boston , Philadelphia and Pittsburgh before be sweep by Colorado in the Stanley cup final . Gord Murphy , a defenseman on the 1996 team , be a assistant on Dineen 's coaching staff ; Brian Skrudland , the captain of the 1996 team , be now the team 's director of player development ; and Bill Lindsay , a forward on the 1996 team , be now the team 's television analyst . when Murphy and Skrudland both be hire in July of 2010 , Tallon say , \" we want to bring back the sense of family , the sense of history and tradition from earlier panther day . \" Lindsay score the most famous goal in franchise history when he skate around hall of fame defenseman Ray Bourque and beat Bill Ranford while fall to the ice for the game - winner in the panther 's game 5 first - round series clincher against the Bruins in 1996 . a picture of that goal have be hang at BankAtlantic Center in the Panthers 's Den of honor , which be unveil in March of 2010 . this year 's team also figure to have a place in the den of honor before too long , and Lindsay be hope the 2012 panther can have a long postseason run of they own . \" you can draw a lot of parallel between those two team , \" Lindsay say . \" we will have to see how it play out . but it be be a long time . I be incredibly happy for this group and what they have be able to do and move forward . hopefully they can get some of they own memory and start the tip of this iceberg go the right way and hopefully this be just the sign of many good year to come . \" both team really have no star . it be a group that be go to have to get it do as a team . it be go to be that four line , six defenseman . that be what we have in ' 96 . I think the similarity from that standpoint be very alike . they have some talent , but they be go to have to get it do as a group . they have work hard all season long , that be the only way to get there and that be the way we do it in ' 96 . \" Murphy , for he part , do not care to start compare the two team . \" this group be its own group , \" Murphy say . \" it be get its own story line , it be get its own blend of player , talent , leadership , personality . obviously , it be nice to do that and look back and that be a heck of a team and a heck of a run , but these guy deserve the recognition for what they have achieve and what they be do . I do not try and put too much kind of comparison and similarity into it . \" for a team with such a limited playoff history as the panther , it be almost inevitable to look back . but there be one big difference between the two team , one that should encourage the panther and they fan . even while they be make they run in 1996 , the panther never look like a team that be start something big . there be reason to believe that be the case with this year 's panther . Tallon build this team for the future , stockpil the organization with high - end prospects like first - round pick Jonathan Huberdeau , Quinton Howden , Nick Bjugstad and Gudbranson . Gudbranson make a major contribution this season , but he figure to only get better and the other should start join he in the nhl in the next couple of season . \" that be what be really exciting for I be the fun begin now , \" Tallon say . \" move forward we do not disrupt we future to get success early here in the present . we have a bright future ahead of we . now we can keep add piece to this core that be really a good strong core now . so we be in good shape as far as the organization be concerned . \"\n",
            "sr\twe be in for a long , exhausting world series it be a surprise to learn that last night' oh boy that happen fast ninth - inning \" comeback \" 2 - 1 win for the ranger over the Cardinals in game 2 of the world series be the first time a team have lose a ninth - inning lead since game 7 of the 2001 World series . sorry to bring that up , but that do seem like a long time . you mean to tell I that every single time a team have lead after eight inning in the world series for the last ten year they have win the game ? that take some of the drama out of it , do not it ? well , it do until last night . [ cry . ] of course , we have not have a game 7 of the world series since 2002 , and it kinda look like we be in for one of those too . Jason Motte , the fireballing former catcher who might have be bear with a beard , really only throw one bad pitch last night , a cutter that catch too much of the plate and be rip by Elvis Andrus for a single in the ninth inning . this be right after a bloop hit by Ian Kinsler , and right before a error by Albert Pujols send Andrus to second . before you know it , the Cardinals have go from three out away from a 2- 0 world series lead to a near - impossible situation : runner on second and third , no out , and the meat of the ranger 's order come up . we agree with those who say Tony La Russa , whose hot streak finally cool last night , probably should have leave in motte to face Josh Hamilton ; more than anything , the Cardinals need a strikeout , and they be far more likely to get that from Motte , no matter how rattle he might have be , than from Arthur Rhodes , whose fastball could not dent a buick . but it be not as if Rhodes and Lance Lynn , who come in after Rhodes give up a sac fly to Hamilton , be light up . they each give up sacrifice flies , and that be all the ranger need . by the time La Russa make the switch from motte , the damage be do . the real problem be not the bullpen , as much as it feel like it this morning . ( for the record , it also feel like my brain be engulf in flame this morning , as I type . October baseball , with the late night and the screaming and the alcohol that come with it , be hazardous to vital organ . ) the problem be the fact that the Cardinals could not hit . Jaime Garcia throw seven brilliant shutout inning , but the Cardinals could not get he more than one run against Colby Lewis , a solid but hittable pitcher . Albert Pujols do not stay and answer question after the game -- a practice that annoy media people and only media people ; no one else care , at all -- but he 0 - for - 4 night be not the only Cardinals issue . Pujols , Lance Berkman , Matt Holliday , and Yadier Molina , the Cardinals 's four all - star hitter , go a combine 1 - for - 13 last night . the only run score thanks to another pinch hit by Allen Craig off Alexi Ogando ; you will be see a ton of Craig when the series get to the American League tomorrow . but the Cardinals can not expect to win with those four guy go 1 - for - 13 . that be what cost the Cardinals last night . Motte just catch some bad luck ... and throw one bad pitch . if you have be enjoy these tight , taut , quick , low - scoring game , that enjoyment be about to end . the series head to the launching pad -- such a great baseball term , \" launching pad \" -- and feature some league - average starter face some of the best hitter in baseball . the level of offense in this series be about to increase exponentially . as be the level of tension . the series , so close to a 2- 0 cardinal lead , be tie , and it be go to be a damned opera every freaking night for the next week . we be in for a all - timer here , folk . it be not go to be easy for anybody . gird you liver .\n",
            "sr\tHilfenhaus fight for test spot BEN Hilfenhaus will spend the next two day rebuild he action in a desperate attempt to prevent Mitchell Starc from steal he test place . Shane Watson will be announce today as part of a 13 - man squad with Hilfenhaus and Starc but there be grave doubt the all - rounder will be fit for the second test in Adelaide , begin on Thursday . if Watson be unable to prove he fitness with sustain bowling session at train early next week it will be consider too much of a risk to include the vice-captain . this would mean Rob Quiney be give another chance to bat at no. 3 , and create further confusion about the batting order should he succeed in the same way Ed Cowan do with a century during the first test at the gabba . and while Quiney be no watson with the ball the victorian bowl 11 tidy over of medium pace for a bit of variety in Brisbane . Hilfenhaus have be one of the big victim of the worldwide Twenty20 preparation roll out to some of the player as a lead - up to the showdown for the test crown against South Africa . while James Pattinson and Peter Siddle be able to play four Sheffield shield game each for Victoria , Hilfenhaus have just one for Tasmania after return from the World Twenty20 in Sri Lanka and Champions League in South Africa . the reborn bowler who dismantle India last summer be nowhere to be see at the gabba during the past week or so . go be the high action , late swing , and disconcerting bounce . instead the round - arm trundler who struggle so badly against England two summer ago be back . Hilfenhaus will work with bowling coach Ali de Winter to try to raise the point of delivery . they work closely together in the past when de Winter , a former tasmanian all - rounder , remodel the action of he fellow Tasmanian after a linger knee injury . Hilfenhaus be the least threatening of Australia 's bowler in Brisbane , claim the last two wicket to fall in the first inning and then go wicketless in the second . this be in mark contrast to Pattinson and Siddle , who shook the south Africans up in they second inning , while off - spinner Nathan Lyon also do some late damage . Hilfenhaus have two great advantage . he be the most accurate and economical of Australia 's pace attack and he get through he over quickly , relieve the pressure on the other fast bowler to rush . despite the struggle of Hilfenhaus , Starc be no certainty to replace he . most of the tall left armer 's wicket in he 4 - 72 for NSW against Victoria come late in Victoria 's inning and could not prevent the loss of first - inning point . Tasmania 's Ben Hilfenhaus during a spell on the first day of the first test when he fail to take a wicket against South Africa .\n",
            "sr\tFerdinand expect to be back in time for Chelsea clash Anton Ferdinand be expect to be fit for QPR 's highly - charge Barclays Premier League clash with Chelsea on Saturday . Ferdinand suffer a shoulder injury in the 3 - 1 defeat by Manchester City on September 1 but train on Tuesday and be likely to feature in the west London derby . with John Terry reportedly win he battle with the ankle injury sustain on England duty against Moldova , the two defender be on course to meet for the first time since the Chelsea captain 's race trial in July . Terry be find not guilty of use a racial slur against Ferdinand in the correspond fixture last October , but remain the subject of a football association investigation over the charge that he deny . it be not yet know whether Ferdinand will shake Terry 's hand before kick - off at Loftus Road on Saturday . in both match since last October , the traditional pre-match hand - shake be abandon in advance .\n",
            "sr\tAtlanta Falcons fan may shoulder much of the cost for New stadium by ( feature columnist ) on May 27 , 2012 Tim Tucker of the Atlanta Journal - Constitution be report that local Atlanta Falcons fan may be hit with a stiff increase in ticket price if / when the propose new stadium be complete in 2017 . the new home for Atlanta 's NFL team would have a retractable roof , a near $ 1 billion price tag , and would result in the demolition of they current stadium , the Georgia dome . despite not win a playoff game in the last three year , local falcon fan have hardly have a reason to complain when it come to see they team in person . last season the average Atlanta Falcons ticket cost $ 68.91 compare to the nfl average of $ 77.34 . Tucker point out that city that have recently build new NFL stadium have experience a average ticket price increase of 26 percent . this would translate to a average ticket to a Atlanta Falcons game cost about $ 87 , which would effectively price out a large portion of the single game ticket buyer . season ticket holder could also see per game ticket price of well over $ 200 . as if that be not bad enough , you will also need to take into account the souvenir and concession price increase which would almost certainly accompany any increase ticket price . Tucker also mention that team owner Arthur Blank have make reassuring statement that he want fan from all economic background to attend game in person , but he be suppose to say that . let 's just hope that blank and the rest of the group work to get the new downtown stadium learn from the bad pr that Turner field experience when it open in 1997 ( via the Chicago Tribune ) . with ever increase way to enjoy a game from home and a still struggle economy , now would not be the time to pass on a even greater cost to the fan .\n",
            "sr\tafter random midweek international match , the Bundesliga return on Saturday for a full slate of match . there be no Friday game this week due to the international match be on Wednesday . the big match this weekend be the oldest Bavarian Derby as Bayern Munich travels to Nrnberg Saturday , November 17 Borussia Dortmund versus Greuther Frth - 3:30 pm CET / 9:30 am EST the champion welcome Forth this weekend in a match that will likely see the return of Jakub b? aszczykowski to the side . the midfielder have be out for several week after injure he ankle , but he be expect to be on the bench for this match . there be no doubt that BVB have be disappoint so far this season . they be still in fourth place , but they be eleven point behind leader Bayern Munich . Frth have be play some better football in recent week . last week 's loss to Borussia Mnchengladbach snap a streak of three straight draw . turn the one point into three have be difficult for Frth this year , and they have only one win in they first eleven match . get a point in Dortmund would be a crazy impressive accomplish . I do not think it be happen . prediction : Borussia Dortmund 3 - 0 Greuther Frth Borussia Mnchengladbach versus Stuttgart - 3:30 pm CET / 9:30 am EST Gladbach have pick up seven point in they last nine and will host Stuttgart this weekend . the visitor conced four second half goal last week in a loss to Hannover to end a five match unbeaten run . expect goal in this one as Gladbach and Stuttgart have the second and fourth worst defense in the league at this point through the season . Juan Arango have be play some brilliant football this season for Gladbach and have three goal and four assist to he name . Stuttgart 's main man be bosnian striker Vedad Ibisevic . he have six goal this season and will be itch to go against this Gladbach backline . prediction : Borussia Mnchengladbach 2 - 2 Stuttgart Hannover versus Freiburg - 3:30 pm CET / 9:30 am EST no Bundesliga side have play more exciting game this season than Hannover . the 96er have see a total of 42 goal score in they eleven match this season which be the most in the division . Szabolcs Huszti start brilliantly for Hannover , but he have cool significantly since that time . after pick up three goal and seven assist in he first four match , the Hungarian have manage zero in both account in the last six league match . while get he back on form will be important as the season continue , figure out the defensive mess be more important at this point especially with a trip to Munich on the table for next weekend . prediction : Hannover 2 - 1 Freiburg Nrnberg versus Bayern Munich - 3:30 pm CET / 9:30 am EST Bayern Munich head to Nrnberg this weekend look to tie the Bundesliga record for most consecutive away win with eight . they will have to do so without Arjen Robben . the midfielder suffer a \" slight muscle tear \" in a friendly for the Netherlands midweek against Germany . Bayern have the player to still run past this nornberg side who have be generally horrible after a great start . they pick up seven of they first nine point , but have be a disaster since . with six loss out of they last eight match , nornberg find themselves out of the drop zone by the grace of goal differential . Dieter Hecking have he work cut out for he this weekend if he expect any point . prediction : Nrnberg 0 - 3 Bayern Munich Hamburg versus Mainz - 2:30 pm CET / 9:30 am EST Hamburg will attempt to get back on the win side of thing this weekend when Mainz come to Imtech arena . they be hammer by Bayern Munich two week ago and hold on to a scoreless draw against Freiburg last week . Rafael Van der Vaart make it through he midweek friendly without any injury and will be back pull the string in the midfield . the focus will be on the south Korean Heung - Min son . if he can get go , Mainz could be in some trouble . prediction : Hamburg 2 - 1 Mainz Eintracht Frankfurt versus Augsburg - 3:30 pm CET / 9:30 am EST after a flying start to the season , Frankfurt have take a dip in recent work and fall back to earth . they have only manage to take one point out of they last nine . when they be not pound the goal into the net , they be concede they . I think they struggle will continue this week when a desperate Augsburg come to town . prediction : Eintracht Frankfurt 1 - 1 Augsburg Bayer Leverkusen versus Schalke - 6:30 pm CET / 12:30 pm EST Schalke have be do the little thing right so far this year and be rightfully second in the table . the big improvement have be defensively where Huub Stevens have be play several guy at several position due to injury and just try to figure out he best lineup . the big revelation have be the play of Ibrahim Afellay on loan from Barcelona . he be pick up a knock this week and will likely start the match on the bench with Julian Draxler take he place . Leverkusen be come off of a big loss last weekend to Wolfsburg and will be look to put that behind they quickly . a win against Schalke this weekend will pull they within two point of the Gelsenkirchen side . prediction : Bayer Leverkusen 1 - 3 Schalke Sunday , November 18 Werder Bremen versus Fortuna Dsseldorf - 3:30 pm CET / 9:30 am EST be there a player in better form than Aaron hunt to start the season ? the dude be play some really good football in the middle of the park for Bremen and have somehow score six goal already this season . they need to shape up the defense if a push for the european place will come to fruition . Dsseldorf have be struggle to keep goal from be score against they in recent week , and it be not stop this weekend . prediction : Werder Bremen 2 - 0 Fortuna Dsseldorf Hoffenheim versus Wolfsburg - 5:30 pm CET / 11:30 am EST Hoffenheim will be boost by the news that teammate Boris Vukcevic have wake from he coma this week . they earn a hard draw last weekend against Fortuna Dsseldorf and will need to build upon that go forward . they have be shocking defensively this season , and that need to improve and improve quickly . Wolfsburg smash Leverkusen last weekend thanks to the outstanding play of Diego . prediction : Hoffenheim 1 - 2 Wolfsburg\n",
            "sr\tthe operation be expect to see the midfielder sideline for six week and will almost certainly keep he out of the next three England international . Parker , 31 , be sure to be unavailable for next month 's friendly against Italy - which take place before the league campaign begin - and be a major doubt for September 's world cup qualifier against Moldova and Ukraine . he extend absence be the latest blow for a spur midfield which be already expect to be hit by the exit of Real Madrid target Luka Modric . speak in the USA , where Tottenham be on a pre-season tour , spur manager Andre Villas - Boas say : \" we think there might be a small tear on he achille . Scott 's miss : villa - Boas could be without Parker for more than a month Pete Norton \" we be evaluate the situation at the moment with regards to a operation , which would take four to six week to heal . \" it be a situation that also depend on we ability to have the player in surgery as quickly as possible . that be what we be try to work on . \" it be a difficult one . we have to wait to see whether we can all get it together as quickly as possible . \" hopefully we will be able to get the achille open and see the extent of the injury . \"\n",
            "sr\tRory McIlroy make a timely return to form to card a morale - boost two - under 68 on the first day of the St Jude classic in Memphis . have miss the cut in he last three outing , McIlroy be in desperate need of a positive round ahead of next week 's US open . it be by no means perfect , but the Ulsterman at least exorcise some of the demon he have be contend with lately , pick up four birdy as he end the day two stroke behind leader Jeff Maggert and John Merrick . begin on the back nine , McIlroy ease any early nerve with two birdy from he first five hole . four straight par help consolidate he position , see he reach the turn in 33 , and he confidence grow further when pick up another shot at the par - four first . however , the 2011 US open champion , who find only half of he green and less than half of he fairway , could not maintain he charge and be leave to rue two bogey come in as he finish with a whimper . in the main , he will be buoy by a sub -70 score and he look more comfortable on the course than he have do in recent week . of particular note be he excellent putting , with the former world no . 1 require only 25 swing of the short stick . Maggert enter the week have miss the cut in nine of he last 12 start but the american hit he stride to post a first round in the 60 in he last 14 on the pga tour . four birdy , three of which arrive in a row , see he head to the front nine move with a swagger . a eagle at the par - five third eclips Maggert 's earlier effort , before two late bogey see he fall back to four - under for a 66 . Merrick , meanwhile , see a opportunity to claim the overnight lead slip through he grasp as he bogey the par- five 18 . Jeff Overton be one of four player give chase on three - under follow a 67 , while three - time major champion Padraig Harrington sit alongside McIlroy on two - under . India 's Arjun Atwal , Seung - Yul Noh of South Korea and American J.J. Henry move to three - under on the opening day . Harrington 's 2010 Ryder cup team - mate Graeme McDowell do not fare so well , however , with the northern irishman implode en route to a dire five - over 75 . the 2010 US open victor make a solitary birdie in a otherwise dismal 18 hole , that include four bogey and a double - bogey six at the par- four 15th . Sweden 's Robert Karlsson also labour on Thursday , shoot a two - over 72 to leave himself with a lot of work ahead . Karlsson finish runner - up at the tournament last year to Harrison Frazar , who have a day to forget as he shoot a 10 - over which include a triple - bogey on the par - four ninth .\n",
            "sr\t\" there be only one way to succeed in anything , and that be to give it everything . I do , and I demand that my player do . \" and \" if you be not fire with enthusiasm , you will be fire with enthusiasm . \" and \" mental toughness be essential to success . \" and \" you never win a game unless you beat the guy in front of you . the score on the board do not mean a thing . that be for the fan . you have get to win the war with the man in front of you . you have get to get you man . \" and \" to achieve success , whatever the job we have , we must pay a price . \" and \" success be like anything worthwhile . it have a price . you have to pay the price to win and you have to pay the price to get to the point where success be possible . most important , you must pay the price to stay there . \" and \" football be a great deal like life in that it teach that work , sacrifice , perseverance , competitive drive , selflessness and respect for authority be the price each and every one of we must pay to achieve any goal that be worthwhile . \" and \" once you agree upon the price you and you family must pay for success , it enable you to ignore the minor hurt , the opponent 's pressure , and the temporary failure . \" and \" confidence be contagious and so be lack of confidence , and a customer will recognize both . \" and \" if you believe in yourself and have the courage , the determination , the dedication , the competitive drive and if you be willing to sacrifice the little thing in life and pay the price for the thing that be worthwhile , it can be do . \" and \" unless a man believe in himself and make a total commitment to he career and put everything he have into it - he mind , he body and he heart - what be life worth to he ? if I be a salesman , I would make this commitment to my company , to the product and most of all , to myself . \" and \" the quality of a person 's life be in direct proportion to they commitment to excellence , regardless of they choose field of endeavor . \" and \" once a man have make a commitment to a way of life , he put the greatest strength in the world behind he . it be something we call heart power . once a man have make this commitment , nothing will stop he short of success . \" and \" unless a man believe in himself and make a total commitment to he career and put everything he have into it - he mind , he body , he heart - what be life worth to he . and \" it be essential to understand that battle be primarily win in the heart of man . \" and \" in great attempt , it be glorious even to fail . \" and \" they may not love you at the time , but they will later . \" and \" leadership rest not only upon ability , not only upon capacity ; have the capacity to lead be not enough . the leader must be willing to use it . he leadership be then base on truth and character . there must be truth in the purpose and will power in the character . \" and \" leadership be base on a spiritual quality ; the power to inspire , the power to inspire other to follow . \" and \" have the capacity to lead be not enough . the leader must be willing to use it . \" and \" a leader must identify himself with the group , must back up the group , even at the risk of displeasing superior . he must believe that the group want from he a sense of approval . if this feeling prevail , production , discipline , morale will be high , and in return , you can demand the cooperation to promote the goal of the company . \" and \" leader be make , they be not bear . they be make by hard effort , which be the price which all of we must pay to achieve any goal that be worthwhile . \" and \" they call it coach but it be teach . you do not just tell they ? oyou show they the reason . \" and \" the harder you work , the harder it be to surrender . \" and \" the difference between a successful person and other be not a lack of strength , not a lack of knowledge , but rather in a lack of will . \" and \" the spirit , the will to win and the will to excel - these be the thing that endure and these be the quality that be so much more important than any of the event that occasion they . \" and \" it be essential to understand that battle be primarily win in the heart of man . man respond to leadership in a most remarkable way and once you have win he heart , he will follow you anywhere . \" and \" a man can be as great as he want to be . if you believe in yourself and have the courage , the determination , the dedication , the competitive drive and if you be willing to sacrifice the little thing in life and pay the price for the thing that be worthwhile , it can be do . \" and \" if you will not settle for anything less than you best , you will be amaze at what you can accomplish in you life . and \" it be not whether you get knock down , it be whether you get up . \" and \" I have never know a man worth he salt who in the long run , deep down in he heart , do not appreciate the grind , the discipline . there be something good in man that really yearn for discipline . \" and \" the good lord give you a body that can stand most anything . it be you mind you have to convince . \" and \" mental toughness be many thing and rather difficult to explain . it be quality be sacrifice and self - denial . also , most importantly , it be combine with a perfectly disciplined will that refuse to give in . it be a state of mind - you could call it character in action . \" and \" once you learn to quit , it become a habit . \" and \" individual commitment to a group effort - that be what make a team work , a company work , a society work , a civilization work . \" and \" team do not go physically flat , they go mentally stale . \" and \" teamwork be what the Green Bay packer be all about . they do not do it for individual glory . they do it because they love one another . \" and \" people who work together will win , whether it be against complex football defense , or the problem of modern society . \" and \" the achievement of a organization be the result of the combine effort of each individual . \" and \" success demand singleness of purpose . \" and \" some of we will do we job well and some will not , but we will be judge by only one thing - the result . \" and \" win be not a sometime thing : it be a all the time thing . you do not win once in a while ; you do not do the right thing once in a while ; you do they right all the time . win be a habit . unfortunately , so be lose . \" and \" win be not everything -- but make effort to win be . \" and \" it be easy to have faith in yourself and have discipline when you be a winner , when you be number one . what you have get to have be faith and discipline when you be not yet a winner . \" and \" I firmly believe that any man 's finest hour , the greatest fulfillment of all that he hold dear , be the moment when he have work he heart out in a good cause and lie exhaust on the field of battle - victorious . \"\n",
            "sr\tBale not go to Barcelona Harry Redknapp have dismiss a report claim Tottenham have agree a fee with Barcelona for the sale of star winger Gareth Bale . spanish newspaper Marca suggest on Friday morning that spur have sanction Bale 's departure to the current european champion for a fee of 40 million euro . Bale admit last month that he would not be able to turn down a move to the Catalan giants and Barca defender Dani Alves say in a recent interview that the Welshman would fit in well at Camp Nou . Redknapp insist the 22 - year - old be not leave White Hart Lane this summer , however . the spur boss tell a press conference : \" I do not know anything about [ the story link bale with Barcelona ] . I would not think there be the slightest bit of truth in that . not a chance , I would not have think . \" Bale shot to prominence with a series of stunning display in the Champions League last season and have catch the eye again for spur this term . Saturday 's quote of the day Padraig Harrington on shoot par today : \" I be think too much . I hit a beautiful tee shot on the first . I hit a beautiful tee shot on the second . that be the end of my day . \" Bubba Watson , tie for 10 th after shoot two under ask if he enjoy see a leaderboard full of Americans : \" well , obviously , no . I would rather it be I on the leaderboard . who care about the other people ? \" Anirban Lahiri on he 153 - yard ace at the 9 th : \" when it go in , everybody go wild . I go wild . fantastic . do it at the open take the cake . you be just look around , you do not know how to express yourself , and then you see you dad jump up , blow you kiss . these moment do not come every day . the ball be with my dad . I do not think anyone can take it away from he . \" Zach Johnson on he birdie at the 18 th : \" it be nice to actually hit the ball where I be look . \" Mark Calcavecchia \" even if I have not win in '89 this be my favourite tournament , even last year when I miss the cut . the atmosphere be the best , even better than Augusta and the U.S. open . I have get eight more year of this , and I will be look forward to every one of they . \" Mark Calcavecchia \" Adam Scott have the best swing in the world . I do not know how he ever play bad . whenever he play good , it be like , well , it be about time -- where have he be ? \" Luke Donald , whose caddy John McLaren be back on duty have miss Friday for the birth of he first child \" surprisingly there be not too much baby talk out there . he only spend a day with little Georgina but he be certainly beam when he walk through the door this morning . \" Paul Lawrie after shoot six over include four putt at the last : \" never , ever , ever have I misjudge so many putt . it be just frightening . I be talk about five or six foot past from 30 foot . I do not even know what I shoot . what do I shoot ? \" Brandt Snedeker on shoot three over : \" those two late birdy salvage what would have be a horrific round into a pretty awful round . I find out why those bunker be so tough . just one of those day where you shake you head and wonder what you be do out there . I hate those . \" Ernie Els \" I have get no problem with the flag positioning . I do not know if the guy be bitch or moan . you need tough flag . what be you go to do ? put flag in the middle of the green in a major ? \" Graeme McDowell \" if they have put the pin on flat place on the green , someone might have make this place look a bit stupid . \" Graeme McDowell ask if he have visualise lift the trophy : \" it may have cross my mind from time to time . I have already think about various liquid that I would like to put in there and discover what they might taste like out of the claret jug . \" Ben Dirs , BBC Sport website hole - by - hole live text reporter \" I like Matt Kuchar -- always wear a vague smile , as if he be just remember a lovely picnic he have with a lover , back in he salad day . \" Adam Scott ask if he will sleep well tonight : \" I do not have a problem sleep . you can ask anyone who know I . I can put in some hour . \"\n",
            "sr\tthe wave of young quarterback and the effect of experience on performance the wave of the young signal caller be upon we . this year there be five rookie and five second - year quarterback start from opening day . over the past ten season there have never be a year in which this many first and second - year quarterback start the majority of game for they respective team . the high number of inexperienced start quarterback get we think : be the league in a flux with so many team look to rebuild , or do experience not matter to quarterback play ? to answer this question , we want to determine how experience affect quarterback performance . if season of experience be not a significant predictor of quarterback play , then perhaps even team in contention for a playoff spot be justify in start a inexperienced quarterback . to measure performance , I collect data on expect point add per play ( EPA / p ) from the past ten season for quarterback who start a majority of they team 's game . in addition to EPA / p , I record the player 's year of experience , age , and if and where the player be draft as well . after collect the data , I run a regression use a 95 % confidence level to determine if experience , quarterback age , and when and if the player be draft be a significant predictor of quarterback performance as measure by EPA / p . here be the result : experience , age , and if the player be draft all have a significant effect on player performance . control for the include variable , a additional year of experience increase epa/p by about 0.02 . the inclusion of age be especially important , as we be focus on the effect of experience on production . have age in we regression allow we to compare how much better we would expect a 7 - year veteran and 28 - year - old quarterback , like Aaron Rodgers or Alex Smith , compare to a rookie 28 - year - old quarterback , like Brandon Weeden . surprisingly when the player be draft do not have a significant effect on performance . there be two potential explanation as to why draft position do not have a significant impact on player performance . one reason be the high bust rate at the quarterback position . player such as JaMarcus Russell and Tim Couch , both take with the first overall pick in they respective draft , be classic example of player fail to perform to the level of they draft position . the second reason be the play of quarterback such as Tom Brady and Marc Bulger , who consistently perform at a top level despite be take with 6 th round pick . as the data show , experience do have a significant effect on quarterback performance , suggest the league be indeed in a flux with a high number of team look to rebuild . these team be insert inexperienced quarterback even though more experienced quarterback perform significantly better . perhaps we will see these young signal caller take the league by storm and thrive despite they lack of experience ; however base on the past ten season though such expectation should be temper . almost a third of league be start quarterback with a year or less of experience while these team may be rebuild now , we might see they rise to prominence in a few year behind they more experienced quarterback . 3 response to the wave of young quarterback and the effect of experience on performance the one thing I might suggest be some kind of era/ season adjustment . over the last few year passers have have higher and higher level of production . on the other hand , that create a chicken - egg problem : be rookie qb do better because pass be easier , or do pass appear easier because we have so many talented qb currently in the league ? ps the explanation for why draft order do not correlate with performance be due to selection / survival effect in the population . one other thing while it be on my mind . age be important but it be not uniformly linear . in the early year it will have a positive slope and in the later year of a career it will have a negative slope . but again , there will be a survival effect where only the very best qb 'survive ' to play into they mid /late 30 , mask the true rate of decline due to age . do not look at player who start the majority of season - team game lead to a survivorship bias where you would expect experience to have a positive effect because the worst inexperienced qb would be replace before be bad experience qb ? the reason why I only include quarterback who start the majority of they team 's game be to eliminate small sample size bias . for example I do not want to include Tom Brady 's 2008 season where he only play 1 quarter .\n",
            "sr\tBowman happy to take a sit on Streama Chris root HUGH BOWMAN want to ride streama with a sit in the Myer classic so she can be at she explosive best , but he know that might not be possible . the multi-dimensional mare return to win form , lead all the way in the Tristarc stake a fort night ago , take she record to seven win from 16 start , but Bowman only use those tactic because of circumstance during the race . '' she can get out and lead like that , but she best win be when she take a sit in the flight stake and she be able to show she acceleration , '' he say . '' if I can do that in the Myer I think you will see a similar performance . she be very well , and I think the mile be go to be she trip . '' Streama be name NSW horse of the year under a controversial point system after a wonderful three - year - old season when she win the flight in the spring as well as the Australian Oaks in the autumn . however , Bowman , who have not miss any of she 16 start , say she future be at the mile . advertisement '' she be a top filly and she be go to prove she be the best mare on Saturday , '' he say . '' if it go to plan , she will back for the emirate [ stake ] next week . '' I think the mile be go to be she best distance . I know she win the Oaks but she do that on class . she be out on she foot in the last 100 metre . '' she be versatile . if there be no speed in the race she can go forward like she do at Caulfield , and she be very hard to run down . we will wait and see what happen but if there be speed , I will take a sit . she have be set for this race , and we could not be happier with she . ''\n",
            "sr\tJoe Hart : bottom with Shrewsbury in 2002 - 03 ; top with Manchester City in 2011 - 12 . photograph : Sandra Montanez / bongart / Getty image \" everyone know Lee Dixon win the League on multiple occasion with Arsenal , but fewer know he actually reach quite the opposite end at the start of he career , finish bottom of the Football League with Chester City in 1983 - 84 , \" write Philip Kent . \" have any other player in the modern age manage this auspicious feat ? \" the knowledge Dixon be far from the only player to have finish both first and 92nd in the Football League . indeed plenty , like Dixon , spend time in close confines with Alan Hansen -- although in the Liverpool dressing room rather than the match of the day sofa . the red team of the late 70 and early 80 produce a series of player who go on to finish they career in the lower reach of the Football League , with at least five finishing bottom of the pile . the first be Ian Callaghan , who play more time for Liverpool than anyone else -- 857 -- and win five league title with the club -- in 1964 , 1966 , 1973 , 1976 and 1977 . after spell in the US , Australia and Ireland he end he career at Crewe , make 15 mid-season midfield appearance for Alex as they prop up the other 91 club in 1981 - 82 . the 1990 - 91 Wrexham team who finish bottom of the fourth division contain Alan Kennedy ( who win four league title at Anfield ) and Joey Jones , who take a winner 's medal after the 1977 season . and the Halifax side of two year later contain Howard Gayle ( who play for Liverpool between 1977 and 1983 , though only very occasionally ) and , though he leave before the end of the season , Jimmy case ( who , again , win four title at Liverpool ) . Dixon 's achivement be also match by another arsenal old boy . Eddie Kelly , who win the double with the Gunnersin 1970 - 71 , score in the cup final , make 22 appearance for Torquay as they finish rock bottom 14 year later . Derek Mountfield also take more than a decade to go from top to bottom -- the defender win league titles with Everton in 1985 and 1987 , then make six appearance for 92nd - place Scarborough in 1998 - 99 . the Shrewsbury side of 2002 - 03 throw up further answer . \" Shrewsbury Town 's inglorious , disaster - ride season of 2002 - 03 can provide two solution ( or one and a half ) , \" write Ross Knight . \" Mark Atkins , who win the Premier League with Blackburn in 1995 before end he career at town , and Joe Hart , who as a 15 year old make a handful of appearance on the sub bench that season , a year before make he full debut . \" finally ( and stretch thing slightly ) , Noel Whelan be a trainee at Leeds when they win the title in 1991 - 92 and part of the Darlington side that go down in 2009 - 10 , and , perhaps the record - holder in term of the swiftest switch from top to bottom , Harry Worley make six appearance for relegate Luton in 2008 - 09 have be a non-first - team member of Chelsea 's championship - win squad in 2005 - 06 . player - manager swap deal \" there be a rumour that Roma have offer Alessandro Crescenzi in exchange for Catania release coach Vincenzo Montella , \" write ZonalMarking on Twitter . \" a player - manager swap deal ? would that be a first ? \" in a word , no . \" in the US , player swap be more usual than in Europe , but player - manager swap be just as rare , \" write Dan Ryazansky of metrofanatic.com . \" nevertheless , in 2002 , the MetroStars ( now NY Red Bulls ) send striker Rodrigo Faria to the Chicago Fire for manager Bob Bradley . Faria be MLS rookie of the year in 2001 and lead the metro with 14 goal in all competition in 2002 . he do not last a full season for the fire , be send to San Jose , help they to the 2003 mls cup , and be out of soccer soon after . Bradley coach the metro for two and a half season , before be fire by the clown Alexi Lalas in one of the most idiotic move in history of MLS . \" strange trophy ( 2 ) last week we have a look at some of the building - shape bauble that pass for trophy in Brazil , and this week we have have a few more suggestion . \" if you correspondent enjoy a odd - shape trophy , I would highly recommend that he take the tour at the Bernabu - for there , if he can find it among the league title and european cup , he can see the wonder of real Madrid 's cabinet of wacky trophy , \" write Dave Willbe . \" I make that one censer / pepper pot , one castle , one tower and a rather lovely ship . \" knowledge archive \" be next year 's group of Holland , Italy , France and Romania the deadliest group ever at a european championship or world cup ? \" ask Michael Ellis in the pre-Euro 2008 day of 2007 . while the \" group of death \" label may have become a fairly devalued currency , Holland , France and Italy ( not to mention Romania ) will certainly be face a struggle to survive at next year 's european championship . the average Fifa ranking of the team in group C be 8 , but this be not the most statistically perilous collection of hopeful to have be throw together since the ranking system begin . the \" deadliest \" group of death , by some way , belong to Group C in the 1996 european championship . while England deal with Holland and Scotland , eventual victors Germany ( at the time rank No2 in the world ) be lump in with Russia ( 3 ) , Italy ( 7 ) , and Czech Republic ( 10 ) , give a bone - chill average of 5.5 . France be also force to negotiate a hazardous passage through the group stage on the way to win Euro 2000 . although the average team ranking be 9.75 , this be skew by Holland be position at 21 when the tournament begin , despite go on to top the group . before the ranking system come into existence in 1993 , however , the title surely must go to Argentina , Brazil and Italy be draw together in the second group stage of the 1982 world cup , with only one to qualify . this system be only use once ... perhaps because it kill off big team rather too quickly . can you help ? \" whilst ruminate about the career of Owen Hargreaves ( do not ask ) I discover that he have rack up 42 full England cap , despite only play 173 club game throughout he career ( that be exclude he 15 appearance for Bayern Munich 's second side ) , \" begin Mike Dunn . \" it mean that 19.5 % of he appearance be in international . give Hargreaves 's lack of action since move from Germany , I think that this must be a record . but it be not . Michael Owen have play a higher proportion of international game versus total appearance with 90 full cap to 354 competitive club appearance . that be 20% ! I could not find anyone else remotely near that percentage , so do little Mickey Owen hold the record ? \" \" I have just read that Sinisa Mihajlovic have drop Adam Ljajic for fail to sing the pro-Nationalist serbian anthem before the recent friendly loss against Spain , \" write Mick Reynolds . \" be there any other case of player be drop by they country for fail to show sufficient national pride during the pre-match anthem or other activity ? \" next will see the first of we Euro 2012 special , so send you european championship question and answer to knowledge@guardian.co.uk about this article which player have finish top and bottom of the football League ? this article be publish on guardian.co.uk at 19.06 EDT on Tuesday 29 May 2012 . it be last modify at 19.25 EDT on Tuesday 29 May 2012 . it be first publish at 09.28 EDT on Monday 28 May 2012 .\n",
            "sr\tfor the first time since 2006 , the MSU football team ( 5 - 6 overall , 2 - 5 big ten ) have go without a home conference win , fall to Northwestern ( 8-3 , 4 - 3 ) 23 -20 on senior day at Spartan stadium . look for a sixth win that would clinch bowl eligibility , MSU enter halftime trail the wildcat 6 - 5 , but it do not take long for that to change once the second half begin . less than a minute into the third quarter , junior quarterback Andrew Maxwell 's throw be intercept by Northwestern linebacker David Nawabuisi and return for a touchdown , make it 13 - 5 . football vs. Northwestern 11/17/12 football vs. Northwestern 11/17/12 on the very next drive , Maxwell lead the Spartans 65 yard down the field , cap off the drive with a 16 - yard touchdown snag by freshman wide receiver Aaron Burbridge , he first career touchdown . Maxwell be able to find sophomore wide out Keith Mumphery in the middle of the field on the two - point conversion , knot it up at 13 . however , the wildcat strike back , stage a seven - play , 73 -yard drive end on a six yard touchdown pass from quarterback Kain Colter to Tim Riley to put northwestern back up , 20 - 13 . the drive appear to have stall earlier when Colter throw a incomplete pass on third down , but a facemask call on redshirt freshman defensive end Shalique Calhoun keep the wildcat move . both team fail to get go on they ensue possession , but early in the fourth quarter , the Spartans ride junior run back Le 'Veon bell and tight end dion sim down the field on a nine - play , 60 yard scoring drive that end when Maxwell find junior wide out Tony Lippett in the endzone for a touchdown , tie the game at 20 . Northwestern respond with a eight play , 66 - yard drive that result in what would become the game win field goal by kicker Jeff Budzien . MSU will have one final chance to become bowl eligible at Minnesota next Saturday .\n",
            "sr\t\" he be so unique , \" say Mirror columnist Holloway . \" he be a untouched , pure talent . I have never work with anyone like he - he just want to get the ball and beat people , however many there be , he can do it . \" before I get to palace , I be hear a lot about this boy and I think , ' be he better than anybody else ? ' \" now I have see he . \" good gracious I , it be quite unbelievable what he can do , and hopefully , a lot of fan around the country will see he still progress because it be so pure . \" you just want to give he the ball . I find myself willing my other player to give it to he because the more he have it , the better my team do . \" hopefully , if he do play on Wednesday , people will see that and I believe he can do it at the very , very top level . \" if he get the ball , whoever be in front of he , wherever they be from or whoever they represent , be it a championship player , a Premier League defender or a international player , I believe Wilfried can beat they . \" the more I see he , the more I be convinced that be the case . \" I think people will see that he ability to actually beat someone be as good as anybody , anywhere else I have see . \" I think it be totally and utterly refreshing and if he get the chance to do it for the full England team on Wednesday , then I think you lot will be talk even more about he because I be sure he can beat those Swedes . to beat people be a wonderful thing to see . \" hopefully he will enjoy it and might produce something that might help we win a game . and prove to people that he be a up and come talent . \" I be sure Wilfried will be a better player and a better person when he come back to I on Thursday . \" former palace player Victor Moses opt to play for Nigeria and the Abidjan - bear Zaha , who hope to have the same impact on he club that Lionel Messi do at Barcelona , could still choose to represent the Ivory coast after play in this friendly . but Holloway say the 20 - year - old winger can make that decision another day . \" at the moment , I just want he to totally and utterly enjoy himself and express himself , \" he say . \" I just want he to go and play with a smile on he face . I be never go to let my mouth write a cheque that he body can not cash . \" the boy be fresh , youthful , exuberance and if he can take this into a game , I think the England supporter , or the Ivory Coast supporter , will see what he can do . \" at the end of the day , this be a friendly and he can play in a friendly without commit himself and he should and that be my advice to he . \" Zaha join Palace as a 12 - year - old and have already play over 100 first - team game before he 20th birthday on Saturday . former palace boss Paul Hart , who give he he debut in 2009 , add : \" he be a very shy boy at that stage but he take the stage like a duck to water and I be very pleased with he performance that night . \" I see he at the back end of last year and then see he again this season , and what I notice be that he have grow into a man now . he be physically strong . \" he can hold people off and he have not lose that pace and he have only enhance he skill . you could see the progress he have make over the last three year and I think he can go on and do a lot more . \" he be a tough lad . he be not a cry baby . \" and Hart , now the academy director at Charlton , add : \" I think he be represent all that be good in football at the moment . \" and I think also it give everybody in the championship and below a little bit of hope that England be look in the championship . this be all good for football . \" Gary Issott , the palace academy manager who also nurture Moses and Nathaniel Clyne - sell to Premier League side Southampton this summer - insist Zaha will only get better . \" he be only 20 , and player do not really understand football properly until they get to about 23 or 24 , so he will get a better understanding of the game as he develop , \" he say . \" there be more to come from he , I be sure . \" can he go all the way ? of course he can . \" Derry : stay and become a legend exclusive by Neil McLeman Shaun Derry spot Wilfried Zaha 's potential when he first train with the palace first team as a 16 - year - old . and now the former Eagles skipper want the new England star to stay and finish he footballing education at Selhurst Park . \" he have he own style , even as a very , very raw 16 - year - old , \" Derry recall . \" the one over -riding memory I have of he be when he come over to play a practice game - he be on the sideline do he keepie - up and skill rather than watch like the other . \" even back then , you probably think he would make it as a career , so it have not surprise I the way he have charge up there . roar material : Zaha could add a full England cap to he u21 one Phil Cole \" he be different in the skill he have and the way he approach the game . I use the expression - and I hope it come across in the right way - that he be from the street and that be the way he play he football with a rawness and a individuality that nobody else have get really . \" now QPR midfielder Derry , who enjoy two spell at the south London club , reckon Zaha should at least see out this season at the championship leader who have a track record of bring through young talent . \" when Victor Moses come on the scene , Wilfried be speak as in the same breathe as he , \" he add . \" Victor leave , in my opinion , earlier than he should have and it take maybe of couple of season to make he mark on the Wigan side before he hit the height as he have now with Chelsea . and even John Bostock ( now at Swindon ) leave at a early age . \" I would love Wilfried to stay until the end of the season - if he could be the one to really kick palace into the Premier League , then he will be idolise for ever . \" Wilfried can stay another six month at Crystal Palace . there be no need for he to leave right now . \"\n",
            "sr\tluck rush for a pair of tds , colt edge brown by sport Network October 21 , 2012 Indianapolis , in ( Sports Network ) - Andrew Luck throw for 186 yard and rush for two touchdown , and the Indianapolis Colts hold off the Cleveland Browns , 17-13 , Sunday at Lucas oil stadium . though luck be just 16- of - 29 passing , he lead the colt to 321 yard of total offense and three scoring drive , just enough to edge out the brown , who generate 319 yard of offense . Reggie Wayne lead all colt receiver with 73 yard on six catch , and Vick Ballard have a game-high 84 yard rush on 20 carry for Indianapolis ( 3 - 3 ) . \" we be obviously excited about the win , to get to 3 - 3 , and be in the hunt now in the afc with a bunch of other team , and we will start to get healthy , hopefully next week , and see if we can take this on the road , \" say Colts interim head coach Bruce Arians , whose team next play at Tennessee . \" we have a lot of mistake today but they can be correct , myself include , and we will go from there . but it be a pretty happy locker room to get to 3 - 3 . \" Brandon Weeden complete 25 - of - 41 pass for 264 yard and two touchdown for Cleveland ( 1 - 6 ) , which be come off its first win of the season against the Cincinnati Bengals . Greg little haul in six pass for 52 yard and a touchdown , and Josh Gordon have 59 yard receive with a score for the Browns in defeat . \" we do not make enough play in the passing game to get it do . if you look at some of the thing that happen , we do not run the ball well enough , \" say Browns head coach Pat Shurmur . \" although they do not sack we , and we do not really have any turnover to speak of , we have get to score more point than we do . \" the colt score on the game 's opening possession , with luck cap a 11 - play , 80 - yard drive with a 3 - yard touchdown run . luck complete all four of he pass for 67 yard on the drive , which be highlight by a 30 - yard completion to Wayne on the game 's first play . Cleveland come right back to score , with little make a circus - like catch in the back of the end zone on a 14 - yard td throw from Weeden . however , a bad snap on the extra-point attempt cause the brown to trail 7 - 6 early in the second quarter . Indianapolis take a 14 - 6 lead with 7:47 left in the first half , with luck get he second td - run of the day from five yard out on a play - action bootleg around the right end . the play end a 14 - play , 76 - yard drive that be salvage when luck hit Wayne on a pass for nine yard on a 3rd - and - 5 from the Cleveland 18 . the brown roll out of the gate to score in the second half , with weeden go a perfect 4 - for - 4 passing for 80 yard , end the drive with a 33 - yard touchdown throw to Gordon to make it a 14 - 13 game . the Colts come back with another long scoring drive , this one a 17 - play march that eat up over eight minute of clock . Vinatieri cap the drive with a 38 - yard field goal with 3:24 left in the third . the kick make it a 17 - 13 game after the colt convert twice on third down and once on fourth during the possession . still trail , Cleveland 's defense force a turnover in the fourth quarter after blit defensive back Sergio Brown sack luck and pry the ball from he hand , give the brown 's offense the ball back at midfield . but on 3rd- and - 1 , Weeden just miss a would - be touchdown throw to Gordon , who be streak down the middle of the field , which force the brown to punt with 6:38 remain . after force a weeden incompletion on 4th - and - 6 with 1:54 left to play , the colt be able to effectively run the clock down before punt back to Cleveland with just seven seconds leave . game note brown run back Trent Richardson do not play in the second half after aggravate a rib injury ... the game mark the fourth time in Cleveland team history that the Browns start a rookie quarterback ( Weeden ) against another start rookie quarterback ( luck ) ... Gordon become the first Browns rookie with a td reception in three straight game since Andre Davis in 2002 ... after pass for seven TD 's through week 4 , luck fail to throw a td pass for the second consecutive game ... a pair of cleveland defensive starter , tackle ahtyba Rubin ( calf ) and cornerback Sheldon Brown ( ankle ) , also leave the game with injury .\n",
            "sr\tNBA : Sandy postpone net / knick opener in Brooklyn Brooklyn - the NBA regular season opener between the Brooklyn Nets and the New York Knicks have be postpone due to damage cause by Hurricane Sandy . Thursday 's game be to be the first play at the net 's new home , Barclays center . New York mayor Michael Bloomberg recommend to the NBA that they postpone the highly anticipate game because of Sandy 's \" linger effect \" on the city 's public transportation system , the New York Times report . at first , the NBA be confident the game could go on as plan . Mayor Bloomberg be hopeful as well , and have plan to attend the game . \" the bottom line be there be not a lot of mass transit , \" Bloomberg say at a news conference at city hall . \" we police have plenty of other thing to do . \" \" Mayor Bloomberg inform we this afternoon ( Wednesday ) that after further analysis of the damage cause by Hurricane Sandy that he feel it be in the best interest of the city of New York , the team , and we fan that we postpone the Knicks - net game , \" NBA deputy commissioner Adam Siliver say in a statement accord to ESPN . \" we thought be with all those affect by this devastating storm . \" \" we be disappointed that we can not play , but there be more thing go on right now , \" net point guard Deron Williams say , the NY Daily News report . \" a lot of people lose home , a lot of people lose love one , so a basketball game do not mean much right now . \" Williams also note that the shake up with the city 's transportation system would have make it hard for fan to attend anyway , so he feel the decision to postpone the game be best for everyone . the net be unable to practice Wednesday at they usual practice facility in East Rutherford because it have lose power , and the first floor have be flood , so the team practice at Barclays Center instead , the New York Times report . net 's rookie point guard Tyshawn Taylor miss Wednesday 's practice as he have be trap in he Hoboken , NJ apartment due to flooding cause by the storm . a make up date for the game will be announce , and Nets and Barclays center ceo Brett Yormark say all ticket for Thursday 's game will be honor at the reschedule game , ESPN report . \" we heart go out to everyone affect by Hurricane Sandy , \" Yormark say . \" we know these be try time for so many of you and we thought be with you . \" Yormark say he will try to have the game reschedule for a date before the end of this year , the New York Times report . the net 's regular season opener at Barclays center will now take place Saturday against the Toronto raptor , and the knick will open they season Friday at Madison Square Garden against the Miami heat . the NBA regular season opener between the Brooklyn Nets and the New York Knicks have be postpone due to damage cause by Hurricane Sandy . Thursday 's game be to be the first play at the net 's new home , Barclays center .\n"
          ]
        }
      ]
    },
    {
      "cell_type": "markdown",
      "source": [
        "### 4. Split to train and test\n",
        "\n",
        "Let's put the first 400 lines to the train set and the last 200 lines to the test set\n",
        "\n",
        "Again, this should be done for both of your register files"
      ],
      "metadata": {
        "id": "tP_Uq81Um-AN"
      }
    },
    {
      "cell_type": "code",
      "source": [
        "! cat data/df.feats | head -400 > data/df-train.feats # again, change the filenames here to match your registers\n",
        "! cat data/df.feats | tail -199 > data/df-test.feats"
      ],
      "metadata": {
        "id": "csI0KsCZqB0-"
      },
      "execution_count": 38,
      "outputs": []
    },
    {
      "cell_type": "markdown",
      "source": [
        "Let's yet combine the register-specific train and test sets to two files and shuffle"
      ],
      "metadata": {
        "id": "CQd-DEM_3ho8"
      }
    },
    {
      "cell_type": "code",
      "source": [
        "! cat data/sr-train.feats data/df-train.feats | shuf > data/sr-df-train.feats\n",
        "! cat data/sr-test.feats data/df-test.feats | shuf > data/sr-df-test.feats"
      ],
      "metadata": {
        "id": "8AvpF8t03ott"
      },
      "execution_count": 39,
      "outputs": []
    },
    {
      "cell_type": "markdown",
      "source": [
        "### 5. Then finally the classification!\n",
        "\n",
        "### Questions: \n",
        "\n",
        "How well does the classifier perform? If you train several models with different registers, do the results differ? If so, what could this reflect?\n",
        "\n"
      ],
      "metadata": {
        "id": "BWxMeiSzrGSK"
      }
    },
    {
      "cell_type": "code",
      "source": [
        "! python3 svm.py data/sr-df-train.feats data/sr-df-test.feats"
      ],
      "metadata": {
        "colab": {
          "base_uri": "https://localhost:8080/"
        },
        "id": "9-qVUXJvrKLH",
        "outputId": "8e6b58c1-42e7-44e1-aa0f-e8f8ed460f9b"
      },
      "execution_count": 40,
      "outputs": [
        {
          "output_type": "stream",
          "name": "stdout",
          "text": [
            "              precision    recall  f1-score   support\n",
            "\n",
            "          df       0.96      0.90      0.93       198\n",
            "          sr       0.91      0.96      0.93       199\n",
            "\n",
            "    accuracy                           0.93       397\n",
            "   macro avg       0.93      0.93      0.93       397\n",
            "weighted avg       0.93      0.93      0.93       397\n",
            "\n"
          ]
        }
      ]
    },
    {
      "cell_type": "markdown",
      "source": [
        "### 6. Extracting predicted keywords\n",
        "\n",
        "This is otherwise the same script\n",
        "\n",
        "### Questions:\n",
        "\n",
        "Do the keywords make sense?\n",
        "\n",
        "Do they differ from the calculated keywords estimated with the standard method or text dispersion?"
      ],
      "metadata": {
        "id": "yAPzG5DDvCG-"
      }
    },
    {
      "cell_type": "code",
      "source": [
        "! python3 svm_explain.py data/sr-df-train.feats data/sr-df-test.feats"
      ],
      "metadata": {
        "colab": {
          "base_uri": "https://localhost:8080/"
        },
        "id": "ug0gNRr9vRwK",
        "outputId": "ad73265c-9be8-40e8-e0b4-7b7744589632"
      },
      "execution_count": 41,
      "outputs": [
        {
          "output_type": "stream",
          "name": "stdout",
          "text": [
            "              precision    recall  f1-score   support\n",
            "\n",
            "          df       0.96      0.90      0.93       198\n",
            "          sr       0.91      0.96      0.93       199\n",
            "\n",
            "    accuracy                           0.93       397\n",
            "   macro avg       0.93      0.93      0.93       397\n",
            "weighted avg       0.93      0.93      0.93       397\n",
            "\n",
            "/usr/local/lib/python3.7/dist-packages/sklearn/utils/deprecation.py:87: FutureWarning: Function get_feature_names is deprecated; get_feature_names is deprecated in 1.0 and will be removed in 1.2. Please use get_feature_names_out instead.\n",
            "  warnings.warn(msg, category=FutureWarning)\n",
            "Positive features for the first class\n",
            "you\n",
            "i\n",
            "re\n",
            "people\n",
            "or\n",
            "government\n",
            "use\n",
            "forum\n",
            "if\n",
            "not\n",
            "would\n",
            "do\n",
            "allah\n",
            "dog\n",
            "post\n",
            "no\n",
            "my\n",
            "someone\n",
            "as\n",
            "site\n",
            "be\n",
            "etc\n",
            "die\n",
            "visit\n",
            "\n",
            "Positive features for the second class\n",
            "week\n",
            "champion\n",
            "say\n",
            "asp\n",
            "goal\n",
            "performance\n",
            "year\n",
            "nfl\n",
            "match\n",
            "ranger\n",
            "at\n",
            "three\n",
            "two\n",
            "in\n",
            "coach\n",
            "sport\n",
            "arsenal\n",
            "against\n",
            "race\n",
            "club\n",
            "last\n",
            "football\n",
            "league\n",
            "season\n",
            "game\n",
            "win\n",
            "team\n",
            "player\n",
            "play\n",
            "the\n",
            "he\n"
          ]
        }
      ]
    },
    {
      "cell_type": "markdown",
      "source": [
        "### 7. Understanding the keywords\n",
        "\n",
        "Again, to understand what the keywords do in the texts you can print example sentences with them\n"
      ],
      "metadata": {
        "id": "UiqzCQQQwbaz"
      }
    },
    {
      "cell_type": "code",
      "source": [
        "from analyze import read_conllu\n",
        "ID,FORM,LEMMA,UPOS,XPOS,FEAT,HEAD,DEPREL,DEPS,MISC=range(10)\n",
        "\n",
        "count = 0\n",
        "for comm, sent in read_conllu(open(\"data/sr.conllu\", \"r\")): # here you can change the data file\n",
        "    if \"nsubj\" in [token[DEPREL].lower() for token in sent]: #here you can put any word form instead of \"you\"\n",
        "        count += 1\n",
        "        if count > 5: # here we specify how many sentences we want to see\n",
        "          break\n",
        "        else:\n",
        "          print(\" \".join(token[FORM] for token in sent)) # now this prints the sentence FORMs and DEPRELs, but these can be changed as well\n",
        "          print(\" \".join(token[DEPREL] for token in sent))\n",
        "          print()"
      ],
      "metadata": {
        "colab": {
          "base_uri": "https://localhost:8080/"
        },
        "id": "sxtCHU7IwnHw",
        "outputId": "76f941e2-5ba4-43c7-e949-7eb25adf7b7a"
      },
      "execution_count": 42,
      "outputs": [
        {
          "output_type": "stream",
          "name": "stdout",
          "text": [
            "The kiwi crews just failed to qualify for a debut A Final .\n",
            "det compound nsubj advmod root mark xcomp case det obl det nmod:npmod punct\n",
            "\n",
            "CREDIT : Rowing New Zealand New Zealand 's new lightweight four failed to make the A final in Belgrade last night after a brave effort on its debut - leading until the final sprint where it was demoted to third and consigned to the B Final .\n",
            "root punct compound compound compound compound nmod:poss case amod amod nsubj appos mark xcomp det det obj case obl amod obl:tmod case det amod obl case nmod:poss nmod punct advcl case det amod obl advmod nsubj:pass aux:pass acl:relcl case obl cc conj case det compound obl punct\n",
            "\n",
            "Finals by the heavyweight four , who also narrowly failed to make it through .\n",
            "root case det nmod nummod punct nsubj advmod advmod acl:relcl mark xcomp obj advmod punct\n",
            "\n",
            "Needing a first or second place to qualify for the main A Final , Curtis Rapley , James Lassche , Graham Oberlin Brown and Duncan Grant took the lead early and were still ahead at 500 metres - ensuring they would be in the battle as the race developed in a class that boasts a huge number of competitive , close boats .\n",
            "csubj det amod cc conj obj mark acl case det obl det amod punct nsubj flat punct conj flat punct conj flat flat cc conj flat root det obj advmod cc cop advmod conj case nummod obl punct advcl nsubj aux cop case det ccomp mark det nsubj advcl case det obl nsubj acl:relcl det amod obj case amod punct amod nmod punct\n",
            "\n",
            "They held onto the lead through halfway by half a second from China and less than a second from France .\n",
            "nsubj root case det obl case obl case det:predet det obl case nmod cc advmod fixed det conj case nmod punct\n",
            "\n"
          ]
        }
      ]
    }
  ]
}