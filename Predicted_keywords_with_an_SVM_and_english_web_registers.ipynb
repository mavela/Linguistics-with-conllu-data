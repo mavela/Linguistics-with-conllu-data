{
  "nbformat": 4,
  "nbformat_minor": 0,
  "metadata": {
    "colab": {
      "name": "Predicted keywords with an SVM and english web registers.ipynb",
      "provenance": [],
      "authorship_tag": "ABX9TyMQ0DMEdsbvh1vH3Nm1n4KN",
      "include_colab_link": true
    },
    "kernelspec": {
      "name": "python3",
      "display_name": "Python 3"
    },
    "language_info": {
      "name": "python"
    }
  },
  "cells": [
    {
      "cell_type": "markdown",
      "metadata": {
        "id": "view-in-github",
        "colab_type": "text"
      },
      "source": [
        "<a href=\"https://colab.research.google.com/github/mavela/Linguistics-with-conllu-data/blob/master/Predicted_keywords_with_an_SVM_and_english_web_registers.ipynb\" target=\"_parent\"><img src=\"https://colab.research.google.com/assets/colab-badge.svg\" alt=\"Open In Colab\"/></a>"
      ]
    },
    {
      "cell_type": "markdown",
      "source": [
        "# Text classification on web registers + predicted keywords\n",
        "## Steps\n",
        "\n",
        "1. Get data from Github\n",
        "2. Have a look at conllu data\n",
        "3. Decide what two registers you want to compare - the classifier setting is binary with 2 classes\n",
        "4. Featurize \n",
        "5. Divide to train and test\n",
        "6. Run the SVM\n",
        "7. Evaluate + optimize\n",
        "8. Analyze the keywords\n",
        "\n",
        "## Things to analyze\n",
        "\n",
        "1. Do the results vary between different registers?\n",
        "2. Do the results vary between feature sets?\n",
        "3. Do the keywords or keyfeatures make sense?\n",
        "4. What do the keywords or features tell you about the text classes?\n"
      ],
      "metadata": {
        "id": "YBdXasnUfoz6"
      }
    },
    {
      "cell_type": "markdown",
      "source": [
        "### 1. Data from Github\n",
        "\n",
        "This is the same what we had for the keywords"
      ],
      "metadata": {
        "id": "OUocUVLCgclY"
      }
    },
    {
      "cell_type": "code",
      "source": [
        "! git clone https://github.com/mavela/Linguistics-with-conllu-data.git\n",
        "% cd Linguistics-with-conllu-data/\n",
        "! ls"
      ],
      "metadata": {
        "colab": {
          "base_uri": "https://localhost:8080/"
        },
        "id": "GwLS0Raggg_j",
        "outputId": "4f35ac23-cfe0-42de-9bba-07872d6123a1"
      },
      "execution_count": 1,
      "outputs": [
        {
          "output_type": "stream",
          "name": "stdout",
          "text": [
            "Cloning into 'Linguistics-with-conllu-data'...\n",
            "remote: Enumerating objects: 66, done.\u001b[K\n",
            "remote: Counting objects: 100% (5/5), done.\u001b[K\n",
            "remote: Compressing objects: 100% (5/5), done.\u001b[K\n",
            "remote: Total 66 (delta 1), reused 4 (delta 0), pack-reused 61\u001b[K\n",
            "Unpacking objects: 100% (66/66), done.\n"
          ]
        }
      ]
    },
    {
      "cell_type": "markdown",
      "source": [
        "### 2. Have a look at the data\n",
        "\n",
        "This is also the same - just a standard procedure to make sure all is fine!"
      ],
      "metadata": {
        "id": "yHkbbUJogyYS"
      }
    },
    {
      "cell_type": "code",
      "source": [
        "! head -20 data/sr.conllu"
      ],
      "metadata": {
        "id": "_HqvsWf8hGFC"
      },
      "execution_count": null,
      "outputs": []
    },
    {
      "cell_type": "markdown",
      "source": [
        "### 3. Featurize\n",
        "\n",
        "Decide which you registers you want to compare. Then featurize them.\n",
        "\n",
        "This script turns the file to the column feature presented by the argument. The script outputs a file `[register].feats`\n",
        "\n",
        "Run this script for two register classes to get your data!\n"
      ],
      "metadata": {
        "id": "4hqZO7hzhW3p"
      }
    },
    {
      "cell_type": "code",
      "source": [
        "save_text_format(\"data/sr.conllu\", \"LEMMA\") # here you can change the feature by changin the column"
      ],
      "metadata": {
        "id": "cSPioFmqgmVH"
      },
      "execution_count": null,
      "outputs": []
    },
    {
      "cell_type": "markdown",
      "source": [
        "Have a look at the file content to be sure it's what you meant! You'll see that the script also adds a register label to each line."
      ],
      "metadata": {
        "id": "gWc2cjk0l-z6"
      }
    },
    {
      "cell_type": "code",
      "source": [
        "! head -20 data/sr.feats # again, you can change the filename to match your files"
      ],
      "metadata": {
        "id": "jw7hrfzMl-K0"
      },
      "execution_count": null,
      "outputs": []
    },
    {
      "cell_type": "markdown",
      "source": [
        "### 4. Split to train and test\n",
        "\n",
        "Let's put the first 400 lines to the train set and the last 200 lines to the test set\n",
        "\n",
        "Again, this should be done for both of your register files"
      ],
      "metadata": {
        "id": "tP_Uq81Um-AN"
      }
    },
    {
      "cell_type": "code",
      "source": [
        "! head data/sr.feats | head -400 > data/sr-train.feats # again, change the filenames here to match your registers\n",
        "! tail data/sr.feats | tail -200 > data/sr-test.feats"
      ],
      "metadata": {
        "id": "csI0KsCZqB0-"
      },
      "execution_count": null,
      "outputs": []
    },
    {
      "cell_type": "markdown",
      "source": [
        "### 5. Then finally the classification!\n",
        "\n",
        "### Questions: \n",
        "\n",
        "How well does the classifier perform? If you train several models with different registers, do the results differ? If so, what could this reflect?\n",
        "\n"
      ],
      "metadata": {
        "id": "BWxMeiSzrGSK"
      }
    },
    {
      "cell_type": "code",
      "source": [
        "! python3 svm.py [trainfile] [testfile]"
      ],
      "metadata": {
        "id": "9-qVUXJvrKLH"
      },
      "execution_count": null,
      "outputs": []
    },
    {
      "cell_type": "markdown",
      "source": [
        "### 6. Extracting predicted keywords\n",
        "\n",
        "This is otherwise the same script\n",
        "\n",
        "### Questions:\n",
        "\n",
        "Do the keywords make sense?\n",
        "\n",
        "Do they differ from the calculated keywords estimated with the standard method or text dispersion?"
      ],
      "metadata": {
        "id": "yAPzG5DDvCG-"
      }
    },
    {
      "cell_type": "code",
      "source": [
        "! python3 svm_explain.py [trainfile] [testfile]"
      ],
      "metadata": {
        "id": "ug0gNRr9vRwK"
      },
      "execution_count": null,
      "outputs": []
    },
    {
      "cell_type": "markdown",
      "source": [
        "### 7. Understanding the keywords\n",
        "\n",
        "Again, to understand what the keywords do in the texts you can print example sentences with them\n"
      ],
      "metadata": {
        "id": "UiqzCQQQwbaz"
      }
    },
    {
      "cell_type": "code",
      "source": [
        "from analyze import read_conllu\n",
        "ID,FORM,LEMMA,UPOS,XPOS,FEAT,HEAD,DEPREL,DEPS,MISC=range(10)\n",
        "\n",
        "count = 0\n",
        "for comm, sent in read_conllu(open(\"data/sr.conllu\", \"r\")): # here you can change the data file\n",
        "    if \"nsubj\" in [token[DEPREL].lower() for token in sent]: #here you can put any word form instead of \"you\"\n",
        "        count += 1\n",
        "        if count > 5: # here we specify how many sentences we want to see\n",
        "          break\n",
        "        else:\n",
        "          print(\" \".join(token[FORM] for token in sent)) # now this prints the sentence FORMs and DEPRELs, but these can be changed as well\n",
        "          print(\" \".join(token[DEPREL] for token in sent))\n",
        "          print()"
      ],
      "metadata": {
        "id": "sxtCHU7IwnHw"
      },
      "execution_count": null,
      "outputs": []
    }
  ]
}